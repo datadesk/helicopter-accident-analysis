{
 "cells": [
  {
   "cell_type": "markdown",
   "metadata": {},
   "source": [
    "# Helicopter accident analysis\n",
    "\n",
    "By [Ben Welsh](http://palewi.re/who-is-ben-welsh/)"
   ]
  },
  {
   "cell_type": "markdown",
   "metadata": {},
   "source": [
    "The Los Angeles Times conducted an analysis of helicopter accident rates for the Nov. 18, 2018, story [\"Danger spins from the sky:\n",
    "The Robinson R44, the world’s best-selling civilian helicopter, has a long history of deadly crashes\"](https://www.latimes.com/projects/la-me-robinson-helicopters/).\n",
    "\n",
    "It found that the Robinson R44 led all major models with the highest fatal accident rate from 2006 to 2016. Here's how we did it."
   ]
  },
  {
   "cell_type": "markdown",
   "metadata": {},
   "source": [
    "## Configuration"
   ]
  },
  {
   "cell_type": "markdown",
   "metadata": {},
   "source": [
    "Set shared variables that will be used by all the notebooks in this repository."
   ]
  },
  {
   "cell_type": "code",
   "execution_count": 118,
   "metadata": {},
   "outputs": [],
   "source": [
    "import os"
   ]
  },
  {
   "cell_type": "code",
   "execution_count": 119,
   "metadata": {},
   "outputs": [],
   "source": [
    "input_dir = os.path.join(os.getcwd(), 'input')\n",
    "output_dir = os.path.join(os.getcwd(), 'output')"
   ]
  },
  {
   "cell_type": "code",
   "execution_count": 120,
   "metadata": {},
   "outputs": [],
   "source": [
    "%%capture\n",
    "%store input_dir\n",
    "%store output_dir"
   ]
  },
  {
   "cell_type": "markdown",
   "metadata": {},
   "source": [
    "## Data collection\n",
    "\n",
    "This analysis is based primarily on two sources, which will be gathered in this section of the code. They are:\n",
    "\n",
    "1. The National Transportation Safety Board's [Aviation Accident Database](https://www.ntsb.gov/_layouts/ntsb.aviation/index.aspx)\n",
    "2. The Federal Aviation Administration's [General Aviation and Part 135 Activity Survey](https://www.faa.gov/data_research/aviation_data_statistics/general_aviation/)"
   ]
  },
  {
   "cell_type": "markdown",
   "metadata": {},
   "source": [
    "### The NTSB's Aviation Accident Database\n",
    "\n",
    "A machine-readable copy of the database is published online in Microsoft Access format. The [download-ntsb](./src/download-ntsb.ipynb) notebook retrieves a copy."
   ]
  },
  {
   "cell_type": "code",
   "execution_count": 121,
   "metadata": {},
   "outputs": [],
   "source": [
    "%%capture\n",
    "%run ./src/download-ntsb.ipynb"
   ]
  },
  {
   "cell_type": "markdown",
   "metadata": {},
   "source": [
    "Only a subset of the NTSB data involving fatal helicopter accidents is necessary for this analysis. The [tidy-ntsb](./src/tidy-ntsb.ipynb) notebook trims the raw database down. Each step in this process was vetted with experts at the agency."
   ]
  },
  {
   "cell_type": "code",
   "execution_count": 122,
   "metadata": {},
   "outputs": [],
   "source": [
    "%%capture\n",
    "%run ./src/tidy-ntsb.ipynb"
   ]
  },
  {
   "cell_type": "markdown",
   "metadata": {},
   "source": [
    "The NTSB has inconsistently logged the make and model of helicopters involved in accidents. The [standardize-ntsb](./src/standardize-ntsb.ipynb) notebook cleans up variations using a crosswalk created based on Times research. "
   ]
  },
  {
   "cell_type": "code",
   "execution_count": 123,
   "metadata": {},
   "outputs": [],
   "source": [
    "%%capture\n",
    "%run ./src/standardize-ntsb.ipynb"
   ]
  },
  {
   "cell_type": "markdown",
   "metadata": {},
   "source": [
    "### The FAA's General Aviation and Part 135 Activity Survey\n",
    "\n",
    "In response to a public records request made by The Times, the FAA provided a [decade](https://www.documentcloud.org/documents/3932859-FAA-FOIA-for-helicopter-flight-hours.html) [of](input/raw-survey-2016.xlsx) its annual estimates about the activity of America's most common helicopter models. This data is not published online. The records provided to The Times were manually input into a spreadsheet and standardized using the same crosswalk as the NTSB data."
   ]
  },
  {
   "cell_type": "markdown",
   "metadata": {},
   "source": [
    "The [tidy-faa](src/tidy-faa.ipynb) notebook filters the FAA data down to population counts and flight-hour estimates for models that have appeared in all ten years of survey data."
   ]
  },
  {
   "cell_type": "code",
   "execution_count": 124,
   "metadata": {},
   "outputs": [],
   "source": [
    "%%capture\n",
    "%run ./src/tidy-faa.ipynb"
   ]
  },
  {
   "cell_type": "markdown",
   "metadata": {},
   "source": [
    "## Analysis\n",
    "\n",
    "The tidied data sources are now prepared for analysis. Let's begin by importing the Python tools necessary for the job."
   ]
  },
  {
   "cell_type": "code",
   "execution_count": 125,
   "metadata": {},
   "outputs": [],
   "source": [
    "import pandas as pd\n",
    "import altair as alt"
   ]
  },
  {
   "cell_type": "code",
   "execution_count": 126,
   "metadata": {},
   "outputs": [],
   "source": [
    "read_df = lambda name: pd.read_csv(os.path.join(output_dir, name))"
   ]
  },
  {
   "cell_type": "markdown",
   "metadata": {},
   "source": [
    "Configure our charting library."
   ]
  },
  {
   "cell_type": "code",
   "execution_count": 127,
   "metadata": {},
   "outputs": [],
   "source": [
    "%%capture\n",
    "alt.themes.enable('opaque')\n",
    "alt.data_transformers.enable('json')"
   ]
  },
  {
   "cell_type": "markdown",
   "metadata": {},
   "source": [
    "### Model accident rates\n",
    "\n",
    "The NTSB accidents list and the FAA survey can be combined to calculate fatal accident rates. Analysts at the NTSB have done so in the past. The steps taken below to replicate their method were vetted with officials at the NTSB and the FAA."
   ]
  },
  {
   "cell_type": "code",
   "execution_count": 128,
   "metadata": {},
   "outputs": [],
   "source": [
    "helicopter_by_accident = read_df(\"standardized-helicopters-by-accident.csv\")"
   ]
  },
  {
   "cell_type": "code",
   "execution_count": 129,
   "metadata": {},
   "outputs": [],
   "source": [
    "survey = read_df(\"tidy-survey.csv\")"
   ]
  },
  {
   "cell_type": "markdown",
   "metadata": {},
   "source": [
    "Extract the years covered by the FAA survey. Note that there is no data for 2011. According to FAA officials, the survey was not done that year, leaving a gap in the official recordkeeping."
   ]
  },
  {
   "cell_type": "code",
   "execution_count": 130,
   "metadata": {},
   "outputs": [
    {
     "data": {
      "text/plain": [
       "array([2006, 2007, 2008, 2009, 2010, 2012, 2013, 2014, 2015, 2016])"
      ]
     },
     "execution_count": 130,
     "metadata": {},
     "output_type": "execute_result"
    }
   ],
   "source": [
    "survey.year.unique()"
   ]
  },
  {
   "cell_type": "markdown",
   "metadata": {},
   "source": [
    "Filter down to accidents that occured in the United States."
   ]
  },
  {
   "cell_type": "code",
   "execution_count": 131,
   "metadata": {},
   "outputs": [],
   "source": [
    "us_helicopter_by_accident = helicopter_by_accident[helicopter_by_accident.in_usa == True]"
   ]
  },
  {
   "cell_type": "markdown",
   "metadata": {},
   "source": [
    "Filter down the NTSB data to accidents involving models covered by the survey that occurred in those years. FAA officials told The Times that the agency only publishes survey results for the most common models, where the margin of error on its estimates are low. "
   ]
  },
  {
   "cell_type": "code",
   "execution_count": 132,
   "metadata": {},
   "outputs": [],
   "source": [
    "qualified_accidents = us_helicopter_by_accident[\n",
    "    us_helicopter_by_accident.year.isin(survey.year.unique()) &\n",
    "    us_helicopter_by_accident.latimes_make_and_model.isin(survey.latimes_make_and_model.unique())\n",
    "]"
   ]
  },
  {
   "cell_type": "markdown",
   "metadata": {},
   "source": [
    "Sum the total number of fatal accidents for each model over the entire period."
   ]
  },
  {
   "cell_type": "code",
   "execution_count": 133,
   "metadata": {},
   "outputs": [],
   "source": [
    "accidents_by_model = qualified_accidents.groupby(\n",
    "    \"latimes_make_and_model\"\n",
    ").size().rename(\"fatal_accidents\").reset_index()"
   ]
  },
  {
   "cell_type": "markdown",
   "metadata": {},
   "source": [
    "Sum the total number of flight hours for each model over the same period."
   ]
  },
  {
   "cell_type": "code",
   "execution_count": 134,
   "metadata": {},
   "outputs": [],
   "source": [
    "hours_by_model = survey.groupby(\n",
    "    \"latimes_make_and_model\"\n",
    ").total_hours.sum().reset_index()"
   ]
  },
  {
   "cell_type": "markdown",
   "metadata": {},
   "source": [
    "Merge the two lists."
   ]
  },
  {
   "cell_type": "code",
   "execution_count": 135,
   "metadata": {},
   "outputs": [],
   "source": [
    "model_totals = pd.merge(\n",
    "    accidents_by_model,\n",
    "    hours_by_model,\n",
    "    on=\"latimes_make_and_model\",\n",
    "    how=\"inner\"\n",
    ")"
   ]
  },
  {
   "cell_type": "markdown",
   "metadata": {},
   "source": [
    "Verify that the merge was complete."
   ]
  },
  {
   "cell_type": "code",
   "execution_count": 136,
   "metadata": {},
   "outputs": [],
   "source": [
    "assert len(accidents_by_model) == len(hours_by_model) == len(model_totals)"
   ]
  },
  {
   "cell_type": "markdown",
   "metadata": {},
   "source": [
    "Calculate the fatal accident rate over the entire period for each model."
   ]
  },
  {
   "cell_type": "code",
   "execution_count": 137,
   "metadata": {},
   "outputs": [],
   "source": [
    "def per_100k_hours(row):\n",
    "    rate = float(row.fatal_accidents) / row.total_hours\n",
    "    per_100k = rate * 100000\n",
    "    rounded = round(per_100k, 2)\n",
    "    return rounded"
   ]
  },
  {
   "cell_type": "code",
   "execution_count": 138,
   "metadata": {},
   "outputs": [],
   "source": [
    "model_totals['fatal_accidents_per_100k_hours'] = model_totals.apply(per_100k_hours, axis=1)"
   ]
  },
  {
   "cell_type": "markdown",
   "metadata": {},
   "source": [
    "Examine the result."
   ]
  },
  {
   "cell_type": "code",
   "execution_count": 139,
   "metadata": {},
   "outputs": [
    {
     "data": {
      "application/vnd.vegalite.v2+json": {
       "$schema": "https://vega.github.io/schema/vega-lite/v2.6.0.json",
       "config": {
        "background": "white",
        "view": {
         "height": 300,
         "width": 400
        }
       },
       "data": {
        "format": {
         "type": "json"
        },
        "url": "altair-data-7d1af6f49af456ecc31912ba2ba4d36a.json"
       },
       "encoding": {
        "x": {
         "axis": {
          "title": ""
         },
         "field": "fatal_accidents_per_100k_hours",
         "type": "quantitative"
        },
        "y": {
         "axis": {
          "title": ""
         },
         "field": "latimes_make_and_model",
         "sort": {
          "field": "fatal_accidents_per_100k_hours",
          "op": "sum",
          "order": "descending"
         },
         "type": "nominal"
        }
       },
       "mark": "bar",
       "title": "Fatal accident rates per 100k flight hours"
      },
      "image/png": "[encoded data removed]",
      "text/plain": [
       "<VegaLite 2 object>\n",
       "\n",
       "If you see this message, it means the renderer has not been properly enabled\n",
       "for the frontend that you are using. For more information, see\n",
       "https://altair-viz.github.io/user_guide/troubleshooting.html\n"
      ]
     },
     "execution_count": 139,
     "metadata": {},
     "output_type": "execute_result"
    }
   ],
   "source": [
    "alt.Chart(model_totals, title=\"Fatal accident rates per 100k flight hours\").mark_bar().encode(\n",
    "    x=alt.X(\n",
    "        \"fatal_accidents_per_100k_hours:Q\",\n",
    "        axis=alt.Axis(title=\"\")\n",
    "    ),\n",
    "    y=alt.Y(\n",
    "        \"latimes_make_and_model:N\",\n",
    "        axis=alt.Axis(title=\"\"),\n",
    "        sort=alt.EncodingSortField(\n",
    "            field=\"fatal_accidents_per_100k_hours\",\n",
    "            op=\"sum\",\n",
    "            order=\"descending\"\n",
    "        )\n",
    "    )\n",
    ")\n"
   ]
  },
  {
   "cell_type": "code",
   "execution_count": 140,
   "metadata": {},
   "outputs": [
    {
     "data": {
      "text/html": [
       "<div>\n",
       "<style scoped>\n",
       "    .dataframe tbody tr th:only-of-type {\n",
       "        vertical-align: middle;\n",
       "    }\n",
       "\n",
       "    .dataframe tbody tr th {\n",
       "        vertical-align: top;\n",
       "    }\n",
       "\n",
       "    .dataframe thead th {\n",
       "        text-align: right;\n",
       "    }\n",
       "</style>\n",
       "<table border=\"1\" class=\"dataframe\">\n",
       "  <thead>\n",
       "    <tr style=\"text-align: right;\">\n",
       "      <th></th>\n",
       "      <th>latimes_make_and_model</th>\n",
       "      <th>fatal_accidents</th>\n",
       "      <th>total_hours</th>\n",
       "      <th>fatal_accidents_per_100k_hours</th>\n",
       "    </tr>\n",
       "  </thead>\n",
       "  <tbody>\n",
       "    <tr>\n",
       "      <th>9</th>\n",
       "      <td>ROBINSON R44</td>\n",
       "      <td>38</td>\n",
       "      <td>2359729</td>\n",
       "      <td>1.61</td>\n",
       "    </tr>\n",
       "    <tr>\n",
       "      <th>7</th>\n",
       "      <td>MCDONNELL DOUGLAS 369</td>\n",
       "      <td>6</td>\n",
       "      <td>550689</td>\n",
       "      <td>1.09</td>\n",
       "    </tr>\n",
       "    <tr>\n",
       "      <th>6</th>\n",
       "      <td>HUGHES 369</td>\n",
       "      <td>13</td>\n",
       "      <td>1201688</td>\n",
       "      <td>1.08</td>\n",
       "    </tr>\n",
       "    <tr>\n",
       "      <th>3</th>\n",
       "      <td>AIRBUS 350</td>\n",
       "      <td>29</td>\n",
       "      <td>3883490</td>\n",
       "      <td>0.75</td>\n",
       "    </tr>\n",
       "    <tr>\n",
       "      <th>8</th>\n",
       "      <td>ROBINSON R22</td>\n",
       "      <td>20</td>\n",
       "      <td>2970806</td>\n",
       "      <td>0.67</td>\n",
       "    </tr>\n",
       "    <tr>\n",
       "      <th>5</th>\n",
       "      <td>BELL 407</td>\n",
       "      <td>13</td>\n",
       "      <td>2113788</td>\n",
       "      <td>0.62</td>\n",
       "    </tr>\n",
       "    <tr>\n",
       "      <th>0</th>\n",
       "      <td>AGUSTA 109</td>\n",
       "      <td>2</td>\n",
       "      <td>362172</td>\n",
       "      <td>0.55</td>\n",
       "    </tr>\n",
       "    <tr>\n",
       "      <th>4</th>\n",
       "      <td>BELL 206</td>\n",
       "      <td>30</td>\n",
       "      <td>5501308</td>\n",
       "      <td>0.55</td>\n",
       "    </tr>\n",
       "    <tr>\n",
       "      <th>2</th>\n",
       "      <td>AIRBUS 135</td>\n",
       "      <td>4</td>\n",
       "      <td>884596</td>\n",
       "      <td>0.45</td>\n",
       "    </tr>\n",
       "    <tr>\n",
       "      <th>10</th>\n",
       "      <td>SCHWEIZER 269</td>\n",
       "      <td>5</td>\n",
       "      <td>1139326</td>\n",
       "      <td>0.44</td>\n",
       "    </tr>\n",
       "    <tr>\n",
       "      <th>11</th>\n",
       "      <td>SIKORSKY 76</td>\n",
       "      <td>2</td>\n",
       "      <td>915515</td>\n",
       "      <td>0.22</td>\n",
       "    </tr>\n",
       "    <tr>\n",
       "      <th>1</th>\n",
       "      <td>AIRBUS 130</td>\n",
       "      <td>1</td>\n",
       "      <td>1053786</td>\n",
       "      <td>0.09</td>\n",
       "    </tr>\n",
       "  </tbody>\n",
       "</table>\n",
       "</div>"
      ],
      "text/plain": [
       "   latimes_make_and_model  fatal_accidents  total_hours  \\\n",
       "9            ROBINSON R44               38      2359729   \n",
       "7   MCDONNELL DOUGLAS 369                6       550689   \n",
       "6              HUGHES 369               13      1201688   \n",
       "3              AIRBUS 350               29      3883490   \n",
       "8            ROBINSON R22               20      2970806   \n",
       "5                BELL 407               13      2113788   \n",
       "0              AGUSTA 109                2       362172   \n",
       "4                BELL 206               30      5501308   \n",
       "2              AIRBUS 135                4       884596   \n",
       "10          SCHWEIZER 269                5      1139326   \n",
       "11            SIKORSKY 76                2       915515   \n",
       "1              AIRBUS 130                1      1053786   \n",
       "\n",
       "    fatal_accidents_per_100k_hours  \n",
       "9                             1.61  \n",
       "7                             1.09  \n",
       "6                             1.08  \n",
       "3                             0.75  \n",
       "8                             0.67  \n",
       "5                             0.62  \n",
       "0                             0.55  \n",
       "4                             0.55  \n",
       "2                             0.45  \n",
       "10                            0.44  \n",
       "11                            0.22  \n",
       "1                             0.09  "
      ]
     },
     "execution_count": 140,
     "metadata": {},
     "output_type": "execute_result"
    }
   ],
   "source": [
    "model_totals.sort_values(\"fatal_accidents_per_100k_hours\", ascending=False)"
   ]
  },
  {
   "cell_type": "markdown",
   "metadata": {},
   "source": [
    "What's the difference between Robinson R44 and the next highest rate?"
   ]
  },
  {
   "cell_type": "code",
   "execution_count": 141,
   "metadata": {},
   "outputs": [
    {
     "data": {
      "text/plain": [
       "'0.48%'"
      ]
     },
     "execution_count": 141,
     "metadata": {},
     "output_type": "execute_result"
    }
   ],
   "source": [
    "f\"{(1.61 - 1.09) / 1.09:.2f}%\""
   ]
  },
  {
   "cell_type": "markdown",
   "metadata": {},
   "source": [
    "Write out the data for use in a graphic."
   ]
  },
  {
   "cell_type": "code",
   "execution_count": 142,
   "metadata": {},
   "outputs": [],
   "source": [
    "model_totals.to_csv(\n",
    "    os.path.join(output_dir, 'fatal-accident-rates.csv'),\n",
    "    index=False,\n",
    "    encoding=\"utf-8\"\n",
    ")"
   ]
  },
  {
   "cell_type": "markdown",
   "metadata": {},
   "source": [
    "### Substituting Robinson's flight hours estimate"
   ]
  },
  {
   "cell_type": "markdown",
   "metadata": {},
   "source": [
    "In an email to The Times, Robinson Helicopter Company President Kurt Robinson said he believed the FAA survey underestimates the R44's flight hours. He wrote:\n",
    "\n",
    "\n",
    "> Please note, the fatal accident rate of 1.61per 100k flight hours used to compare the R44 with other model helicopters from 2006 to 2016 does not reflect the actual usage rate of the R44 helicopter. Your estimated flight hours are based on the FAA General Aviation Survey, which is a voluntary survey and more representative of larger commercial operators, not the U.S. helicopter industry as a whole. **Robinson’s own calculations, based on R44 production, overhaul records, and time-in-service reports, conservatively estimate total flight hours to be 3,260,787 hours**, 38% more than the FAA estimate.  "
   ]
  },
  {
   "cell_type": "markdown",
   "metadata": {},
   "source": [
    "FAA official reject that claim and stand by their survey. But here is how the math comes up with Robinson's preferred flight hours total subsituted in."
   ]
  },
  {
   "cell_type": "code",
   "execution_count": 143,
   "metadata": {},
   "outputs": [],
   "source": [
    "adjusted_model_totals = model_totals.copy().set_index('latimes_make_and_model')"
   ]
  },
  {
   "cell_type": "code",
   "execution_count": 144,
   "metadata": {},
   "outputs": [],
   "source": [
    "adjusted_model_totals.at['ROBINSON R44', 'total_hours'] = 3260787"
   ]
  },
  {
   "cell_type": "code",
   "execution_count": 145,
   "metadata": {},
   "outputs": [],
   "source": [
    "adjusted_model_totals['fatal_accidents_per_100k_hours'] = adjusted_model_totals.apply(per_100k_hours, axis=1)"
   ]
  },
  {
   "cell_type": "code",
   "execution_count": 146,
   "metadata": {},
   "outputs": [
    {
     "data": {
      "text/html": [
       "<div>\n",
       "<style scoped>\n",
       "    .dataframe tbody tr th:only-of-type {\n",
       "        vertical-align: middle;\n",
       "    }\n",
       "\n",
       "    .dataframe tbody tr th {\n",
       "        vertical-align: top;\n",
       "    }\n",
       "\n",
       "    .dataframe thead th {\n",
       "        text-align: right;\n",
       "    }\n",
       "</style>\n",
       "<table border=\"1\" class=\"dataframe\">\n",
       "  <thead>\n",
       "    <tr style=\"text-align: right;\">\n",
       "      <th></th>\n",
       "      <th>fatal_accidents</th>\n",
       "      <th>total_hours</th>\n",
       "      <th>fatal_accidents_per_100k_hours</th>\n",
       "    </tr>\n",
       "    <tr>\n",
       "      <th>latimes_make_and_model</th>\n",
       "      <th></th>\n",
       "      <th></th>\n",
       "      <th></th>\n",
       "    </tr>\n",
       "  </thead>\n",
       "  <tbody>\n",
       "    <tr>\n",
       "      <th>ROBINSON R44</th>\n",
       "      <td>38</td>\n",
       "      <td>3260787</td>\n",
       "      <td>1.17</td>\n",
       "    </tr>\n",
       "    <tr>\n",
       "      <th>MCDONNELL DOUGLAS 369</th>\n",
       "      <td>6</td>\n",
       "      <td>550689</td>\n",
       "      <td>1.09</td>\n",
       "    </tr>\n",
       "    <tr>\n",
       "      <th>HUGHES 369</th>\n",
       "      <td>13</td>\n",
       "      <td>1201688</td>\n",
       "      <td>1.08</td>\n",
       "    </tr>\n",
       "    <tr>\n",
       "      <th>AIRBUS 350</th>\n",
       "      <td>29</td>\n",
       "      <td>3883490</td>\n",
       "      <td>0.75</td>\n",
       "    </tr>\n",
       "    <tr>\n",
       "      <th>ROBINSON R22</th>\n",
       "      <td>20</td>\n",
       "      <td>2970806</td>\n",
       "      <td>0.67</td>\n",
       "    </tr>\n",
       "    <tr>\n",
       "      <th>BELL 407</th>\n",
       "      <td>13</td>\n",
       "      <td>2113788</td>\n",
       "      <td>0.62</td>\n",
       "    </tr>\n",
       "    <tr>\n",
       "      <th>AGUSTA 109</th>\n",
       "      <td>2</td>\n",
       "      <td>362172</td>\n",
       "      <td>0.55</td>\n",
       "    </tr>\n",
       "    <tr>\n",
       "      <th>BELL 206</th>\n",
       "      <td>30</td>\n",
       "      <td>5501308</td>\n",
       "      <td>0.55</td>\n",
       "    </tr>\n",
       "    <tr>\n",
       "      <th>AIRBUS 135</th>\n",
       "      <td>4</td>\n",
       "      <td>884596</td>\n",
       "      <td>0.45</td>\n",
       "    </tr>\n",
       "    <tr>\n",
       "      <th>SCHWEIZER 269</th>\n",
       "      <td>5</td>\n",
       "      <td>1139326</td>\n",
       "      <td>0.44</td>\n",
       "    </tr>\n",
       "    <tr>\n",
       "      <th>SIKORSKY 76</th>\n",
       "      <td>2</td>\n",
       "      <td>915515</td>\n",
       "      <td>0.22</td>\n",
       "    </tr>\n",
       "    <tr>\n",
       "      <th>AIRBUS 130</th>\n",
       "      <td>1</td>\n",
       "      <td>1053786</td>\n",
       "      <td>0.09</td>\n",
       "    </tr>\n",
       "  </tbody>\n",
       "</table>\n",
       "</div>"
      ],
      "text/plain": [
       "                        fatal_accidents  total_hours  \\\n",
       "latimes_make_and_model                                 \n",
       "ROBINSON R44                         38      3260787   \n",
       "MCDONNELL DOUGLAS 369                 6       550689   \n",
       "HUGHES 369                           13      1201688   \n",
       "AIRBUS 350                           29      3883490   \n",
       "ROBINSON R22                         20      2970806   \n",
       "BELL 407                             13      2113788   \n",
       "AGUSTA 109                            2       362172   \n",
       "BELL 206                             30      5501308   \n",
       "AIRBUS 135                            4       884596   \n",
       "SCHWEIZER 269                         5      1139326   \n",
       "SIKORSKY 76                           2       915515   \n",
       "AIRBUS 130                            1      1053786   \n",
       "\n",
       "                        fatal_accidents_per_100k_hours  \n",
       "latimes_make_and_model                                  \n",
       "ROBINSON R44                                      1.17  \n",
       "MCDONNELL DOUGLAS 369                             1.09  \n",
       "HUGHES 369                                        1.08  \n",
       "AIRBUS 350                                        0.75  \n",
       "ROBINSON R22                                      0.67  \n",
       "BELL 407                                          0.62  \n",
       "AGUSTA 109                                        0.55  \n",
       "BELL 206                                          0.55  \n",
       "AIRBUS 135                                        0.45  \n",
       "SCHWEIZER 269                                     0.44  \n",
       "SIKORSKY 76                                       0.22  \n",
       "AIRBUS 130                                        0.09  "
      ]
     },
     "execution_count": 146,
     "metadata": {},
     "output_type": "execute_result"
    }
   ],
   "source": [
    "adjusted_model_totals.sort_values(\"fatal_accidents_per_100k_hours\", ascending=False)"
   ]
  },
  {
   "cell_type": "markdown",
   "metadata": {},
   "source": [
    "### What was the R44 fatal crash total in the period of our study including the year without FAA survey numbers?"
   ]
  },
  {
   "cell_type": "code",
   "execution_count": 147,
   "metadata": {},
   "outputs": [],
   "source": [
    "annual_totals = us_helicopter_by_accident[\n",
    "    us_helicopter_by_accident.latimes_make_and_model == 'ROBINSON R44'\n",
    "].groupby(\"year\").size().rename(\"total\").reset_index()"
   ]
  },
  {
   "cell_type": "code",
   "execution_count": 148,
   "metadata": {},
   "outputs": [
    {
     "data": {
      "text/html": [
       "<div>\n",
       "<style scoped>\n",
       "    .dataframe tbody tr th:only-of-type {\n",
       "        vertical-align: middle;\n",
       "    }\n",
       "\n",
       "    .dataframe tbody tr th {\n",
       "        vertical-align: top;\n",
       "    }\n",
       "\n",
       "    .dataframe thead th {\n",
       "        text-align: right;\n",
       "    }\n",
       "</style>\n",
       "<table border=\"1\" class=\"dataframe\">\n",
       "  <thead>\n",
       "    <tr style=\"text-align: right;\">\n",
       "      <th></th>\n",
       "      <th>year</th>\n",
       "      <th>total</th>\n",
       "    </tr>\n",
       "  </thead>\n",
       "  <tbody>\n",
       "    <tr>\n",
       "      <th>7</th>\n",
       "      <td>2006</td>\n",
       "      <td>7</td>\n",
       "    </tr>\n",
       "    <tr>\n",
       "      <th>8</th>\n",
       "      <td>2007</td>\n",
       "      <td>4</td>\n",
       "    </tr>\n",
       "    <tr>\n",
       "      <th>9</th>\n",
       "      <td>2008</td>\n",
       "      <td>5</td>\n",
       "    </tr>\n",
       "    <tr>\n",
       "      <th>10</th>\n",
       "      <td>2009</td>\n",
       "      <td>2</td>\n",
       "    </tr>\n",
       "    <tr>\n",
       "      <th>11</th>\n",
       "      <td>2010</td>\n",
       "      <td>4</td>\n",
       "    </tr>\n",
       "    <tr>\n",
       "      <th>12</th>\n",
       "      <td>2011</td>\n",
       "      <td>4</td>\n",
       "    </tr>\n",
       "    <tr>\n",
       "      <th>13</th>\n",
       "      <td>2012</td>\n",
       "      <td>4</td>\n",
       "    </tr>\n",
       "    <tr>\n",
       "      <th>14</th>\n",
       "      <td>2013</td>\n",
       "      <td>4</td>\n",
       "    </tr>\n",
       "    <tr>\n",
       "      <th>15</th>\n",
       "      <td>2014</td>\n",
       "      <td>5</td>\n",
       "    </tr>\n",
       "    <tr>\n",
       "      <th>16</th>\n",
       "      <td>2015</td>\n",
       "      <td>1</td>\n",
       "    </tr>\n",
       "    <tr>\n",
       "      <th>17</th>\n",
       "      <td>2016</td>\n",
       "      <td>2</td>\n",
       "    </tr>\n",
       "  </tbody>\n",
       "</table>\n",
       "</div>"
      ],
      "text/plain": [
       "    year  total\n",
       "7   2006      7\n",
       "8   2007      4\n",
       "9   2008      5\n",
       "10  2009      2\n",
       "11  2010      4\n",
       "12  2011      4\n",
       "13  2012      4\n",
       "14  2013      4\n",
       "15  2014      5\n",
       "16  2015      1\n",
       "17  2016      2"
      ]
     },
     "execution_count": 148,
     "metadata": {},
     "output_type": "execute_result"
    }
   ],
   "source": [
    "annual_totals[(annual_totals.year >= 2006) & (annual_totals.year < 2017)]"
   ]
  },
  {
   "cell_type": "code",
   "execution_count": 149,
   "metadata": {},
   "outputs": [
    {
     "data": {
      "text/plain": [
       "42"
      ]
     },
     "execution_count": 149,
     "metadata": {},
     "output_type": "execute_result"
    }
   ],
   "source": [
    "annual_totals[(annual_totals.year >= 2006) & (annual_totals.year < 2017)].total.sum()"
   ]
  },
  {
   "cell_type": "markdown",
   "metadata": {},
   "source": [
    "### What is the total number of Robinson fatalities in the NTSB accident database?"
   ]
  },
  {
   "cell_type": "code",
   "execution_count": 150,
   "metadata": {},
   "outputs": [],
   "source": [
    "maker_fatality_totals = helicopter_by_accident.groupby([\n",
    "    \"latimes_make\", \"in_usa\"\n",
    "]).agg(dict(total_fatalities=\"sum\")).unstack(1)"
   ]
  },
  {
   "cell_type": "code",
   "execution_count": 151,
   "metadata": {},
   "outputs": [],
   "source": [
    "maker_fatality_totals['grand_total'] = maker_fatality_totals.total_fatalities.sum(axis=1)"
   ]
  },
  {
   "cell_type": "code",
   "execution_count": 152,
   "metadata": {},
   "outputs": [
    {
     "data": {
      "text/html": [
       "<div>\n",
       "<style scoped>\n",
       "    .dataframe tbody tr th:only-of-type {\n",
       "        vertical-align: middle;\n",
       "    }\n",
       "\n",
       "    .dataframe tbody tr th {\n",
       "        vertical-align: top;\n",
       "    }\n",
       "\n",
       "    .dataframe thead tr th {\n",
       "        text-align: left;\n",
       "    }\n",
       "\n",
       "    .dataframe thead tr:last-of-type th {\n",
       "        text-align: right;\n",
       "    }\n",
       "</style>\n",
       "<table border=\"1\" class=\"dataframe\">\n",
       "  <thead>\n",
       "    <tr>\n",
       "      <th></th>\n",
       "      <th colspan=\"2\" halign=\"left\">total_fatalities</th>\n",
       "      <th>grand_total</th>\n",
       "    </tr>\n",
       "    <tr>\n",
       "      <th>in_usa</th>\n",
       "      <th>False</th>\n",
       "      <th>True</th>\n",
       "      <th></th>\n",
       "    </tr>\n",
       "    <tr>\n",
       "      <th>latimes_make</th>\n",
       "      <th></th>\n",
       "      <th></th>\n",
       "      <th></th>\n",
       "    </tr>\n",
       "  </thead>\n",
       "  <tbody>\n",
       "    <tr>\n",
       "      <th>BELL</th>\n",
       "      <td>524.0</td>\n",
       "      <td>717.0</td>\n",
       "      <td>1241.0</td>\n",
       "    </tr>\n",
       "    <tr>\n",
       "      <th>ROBINSON</th>\n",
       "      <td>322.0</td>\n",
       "      <td>287.0</td>\n",
       "      <td>609.0</td>\n",
       "    </tr>\n",
       "    <tr>\n",
       "      <th>AIRBUS</th>\n",
       "      <td>124.0</td>\n",
       "      <td>325.0</td>\n",
       "      <td>449.0</td>\n",
       "    </tr>\n",
       "    <tr>\n",
       "      <th>HUGHES</th>\n",
       "      <td>44.0</td>\n",
       "      <td>151.0</td>\n",
       "      <td>195.0</td>\n",
       "    </tr>\n",
       "    <tr>\n",
       "      <th>SIKORSKY</th>\n",
       "      <td>98.0</td>\n",
       "      <td>76.0</td>\n",
       "      <td>174.0</td>\n",
       "    </tr>\n",
       "  </tbody>\n",
       "</table>\n",
       "</div>"
      ],
      "text/plain": [
       "             total_fatalities        grand_total\n",
       "in_usa                  False   True            \n",
       "latimes_make                                    \n",
       "BELL                    524.0  717.0      1241.0\n",
       "ROBINSON                322.0  287.0       609.0\n",
       "AIRBUS                  124.0  325.0       449.0\n",
       "HUGHES                   44.0  151.0       195.0\n",
       "SIKORSKY                 98.0   76.0       174.0"
      ]
     },
     "execution_count": 152,
     "metadata": {},
     "output_type": "execute_result"
    }
   ],
   "source": [
    "maker_fatality_totals.sort_values(\"grand_total\", ascending=False).head()"
   ]
  },
  {
   "cell_type": "markdown",
   "metadata": {},
   "source": [
    "### In how many accidents have investigators noted signs of mast bumping?"
   ]
  },
  {
   "cell_type": "markdown",
   "metadata": {},
   "source": [
    "The separate [search-narratives](src/search-narratives.ipynb) notebook searches through NTSB accident investigations for keywords related to mast-bumping."
   ]
  },
  {
   "cell_type": "code",
   "execution_count": 153,
   "metadata": {},
   "outputs": [],
   "source": [
    "%run ./src/search-narratives.ipynb"
   ]
  },
  {
   "cell_type": "code",
   "execution_count": 154,
   "metadata": {},
   "outputs": [],
   "source": [
    "narratives = read_df(\"coded-narratives.csv\")"
   ]
  },
  {
   "cell_type": "markdown",
   "metadata": {},
   "source": [
    "The Times individually reviewed each hit in the search verified the fatal accident investigations that noted mast-bumping."
   ]
  },
  {
   "cell_type": "code",
   "execution_count": 155,
   "metadata": {},
   "outputs": [],
   "source": [
    "mast_bumping = narratives[narratives.verified == 'y']"
   ]
  },
  {
   "cell_type": "markdown",
   "metadata": {},
   "source": [
    "Homemade helicopters will be excluded to prevent this small submarket from skewing the results."
   ]
  },
  {
   "cell_type": "code",
   "execution_count": 156,
   "metadata": {},
   "outputs": [],
   "source": [
    "mast_bumping = mast_bumping[mast_bumping.homemade == 'n']"
   ]
  },
  {
   "cell_type": "markdown",
   "metadata": {},
   "source": [
    "Incidents after 1995 are notable because that was when the government issues new guidance on mast-bumping."
   ]
  },
  {
   "cell_type": "code",
   "execution_count": 157,
   "metadata": {},
   "outputs": [],
   "source": [
    "mast_bumping_since_1995 = mast_bumping[mast_bumping.year >= 1995]"
   ]
  },
  {
   "cell_type": "code",
   "execution_count": 158,
   "metadata": {},
   "outputs": [
    {
     "data": {
      "text/plain": [
       "19"
      ]
     },
     "execution_count": 158,
     "metadata": {},
     "output_type": "execute_result"
    }
   ],
   "source": [
    "len(mast_bumping_since_1995)"
   ]
  },
  {
   "cell_type": "markdown",
   "metadata": {},
   "source": [
    "How many of these involved Robison helicopters?"
   ]
  },
  {
   "cell_type": "code",
   "execution_count": 159,
   "metadata": {},
   "outputs": [
    {
     "data": {
      "text/html": [
       "<div>\n",
       "<style scoped>\n",
       "    .dataframe tbody tr th:only-of-type {\n",
       "        vertical-align: middle;\n",
       "    }\n",
       "\n",
       "    .dataframe tbody tr th {\n",
       "        vertical-align: top;\n",
       "    }\n",
       "\n",
       "    .dataframe thead th {\n",
       "        text-align: right;\n",
       "    }\n",
       "</style>\n",
       "<table border=\"1\" class=\"dataframe\">\n",
       "  <thead>\n",
       "    <tr style=\"text-align: right;\">\n",
       "      <th></th>\n",
       "      <th>latimes_make</th>\n",
       "      <th>mast_bumping</th>\n",
       "    </tr>\n",
       "  </thead>\n",
       "  <tbody>\n",
       "    <tr>\n",
       "      <th>0</th>\n",
       "      <td>BELL</td>\n",
       "      <td>5</td>\n",
       "    </tr>\n",
       "    <tr>\n",
       "      <th>1</th>\n",
       "      <td>FAIRCHILD/HILLER</td>\n",
       "      <td>3</td>\n",
       "    </tr>\n",
       "    <tr>\n",
       "      <th>2</th>\n",
       "      <td>GARLICK</td>\n",
       "      <td>1</td>\n",
       "    </tr>\n",
       "    <tr>\n",
       "      <th>3</th>\n",
       "      <td>ROBINSON</td>\n",
       "      <td>10</td>\n",
       "    </tr>\n",
       "  </tbody>\n",
       "</table>\n",
       "</div>"
      ],
      "text/plain": [
       "       latimes_make  mast_bumping\n",
       "0              BELL             5\n",
       "1  FAIRCHILD/HILLER             3\n",
       "2           GARLICK             1\n",
       "3          ROBINSON            10"
      ]
     },
     "execution_count": 159,
     "metadata": {},
     "output_type": "execute_result"
    }
   ],
   "source": [
    "mast_bumping_since_1995.groupby(\"latimes_make\").size().rename(\"mast_bumping\").reset_index()"
   ]
  },
  {
   "cell_type": "markdown",
   "metadata": {},
   "source": [
    "### How much experience do Robinson pilots in fatal accidents have?"
   ]
  },
  {
   "cell_type": "markdown",
   "metadata": {},
   "source": [
    "Though the federal government does not track the flight hours of pilots across the board, it does log the experience level of those involved in accidents. Let's look into it."
   ]
  },
  {
   "cell_type": "markdown",
   "metadata": {},
   "source": [
    "Read in the pilot list"
   ]
  },
  {
   "cell_type": "code",
   "execution_count": 160,
   "metadata": {},
   "outputs": [],
   "source": [
    "pilots = read_df(\"pilots.csv\")"
   ]
  },
  {
   "cell_type": "markdown",
   "metadata": {},
   "source": [
    "Filter down to accidents involving solo pilots. According to NTSB experts, this is the only way to ensure the analysis will focus on the pilot at the controls during the accident."
   ]
  },
  {
   "cell_type": "code",
   "execution_count": 161,
   "metadata": {},
   "outputs": [],
   "source": [
    "solo_pilot_accidents = us_helicopter_by_accident[\n",
    "    (us_helicopter_by_accident.pilot_total == 1) &\n",
    "    (us_helicopter_by_accident.year < 2018)\n",
    "]"
   ]
  },
  {
   "cell_type": "markdown",
   "metadata": {},
   "source": [
    "Merge pilot hours onto each accident."
   ]
  },
  {
   "cell_type": "code",
   "execution_count": 162,
   "metadata": {},
   "outputs": [],
   "source": [
    "solo_pilot_hours = solo_pilot_accidents.merge(\n",
    "    pilots,\n",
    "    on=[\"event_id\", \"aircraft_id\"]\n",
    ")"
   ]
  },
  {
   "cell_type": "markdown",
   "metadata": {},
   "source": [
    "Toss out outliers with flight hour totals so large NTSB experts said they should be expected to be accurate."
   ]
  },
  {
   "cell_type": "code",
   "execution_count": 163,
   "metadata": {},
   "outputs": [],
   "source": [
    "solo_pilot_hours = solo_pilot_hours[solo_pilot_hours.flight_hours < 900000]"
   ]
  },
  {
   "cell_type": "markdown",
   "metadata": {},
   "source": [
    "Groups the pilots by whether they were flying a Robinson helicopter or not."
   ]
  },
  {
   "cell_type": "code",
   "execution_count": 164,
   "metadata": {},
   "outputs": [],
   "source": [
    "solo_pilot_hours['maker_group'] = solo_pilot_hours.latimes_make.apply(\n",
    "    lambda x: x if x == 'ROBINSON' else 'THE REST'\n",
    ")"
   ]
  },
  {
   "cell_type": "markdown",
   "metadata": {},
   "source": [
    "Chart the result"
   ]
  },
  {
   "cell_type": "code",
   "execution_count": 165,
   "metadata": {},
   "outputs": [
    {
     "data": {
      "application/vnd.vegalite.v2+json": {
       "$schema": "https://vega.github.io/schema/vega-lite/v2.6.0.json",
       "config": {
        "background": "white",
        "view": {
         "height": 300,
         "width": 400
        }
       },
       "data": {
        "format": {
         "type": "json"
        },
        "url": "altair-data-a96711ecdffac0f294073baaf7b88c23.json"
       },
       "encoding": {
        "color": {
         "field": "maker_group",
         "scale": {
          "range": [
           "#0000ff",
           "#008000"
          ]
         },
         "type": "nominal"
        },
        "x": {
         "axis": {
          "title": "Total flight hours"
         },
         "bin": {
          "maxbins": 50
         },
         "field": "flight_hours",
         "type": "quantitative"
        },
        "y": {
         "aggregate": "count",
         "axis": {
          "title": "Pilots"
         },
         "field": "*",
         "stack": null,
         "type": "quantitative"
        }
       },
       "mark": {
        "interpolate": "step",
        "opacity": 0.3,
        "type": "area"
       },
       "title": "Total flight experience of solo pilots in fatal accidents",
       "transform": [
        {
         "filter": "(datum.flight_hours < 20000)"
        }
       ]
      },
      "image/png": "[encoded data removed]",
      "text/plain": [
       "<VegaLite 2 object>\n",
       "\n",
       "If you see this message, it means the renderer has not been properly enabled\n",
       "for the frontend that you are using. For more information, see\n",
       "https://altair-viz.github.io/user_guide/troubleshooting.html\n"
      ]
     },
     "execution_count": 165,
     "metadata": {},
     "output_type": "execute_result"
    }
   ],
   "source": [
    "alt.Chart(\n",
    "    solo_pilot_hours,\n",
    "    title=\"Total flight experience of solo pilots in fatal accidents\"\n",
    ").mark_area(\n",
    "    opacity=0.3,\n",
    "    interpolate='step'\n",
    ").encode(\n",
    "    x=alt.X(\n",
    "        'flight_hours:Q',\n",
    "        bin=alt.Bin(maxbins=50),\n",
    "        axis=alt.Axis(title=\"Total flight hours\")\n",
    "    ),\n",
    "    y=alt.Y(\n",
    "        'count(*):Q',\n",
    "        stack=None,\n",
    "        axis=alt.Axis(title=\"Pilots\")\n",
    "    ),\n",
    "    color=alt.Color(\n",
    "        'maker_group:N',\n",
    "        scale=alt.Scale(range=['#0000ff', '#008000'])\n",
    "    )\n",
    ").transform_filter(alt.datum.flight_hours < 20000)"
   ]
  },
  {
   "cell_type": "markdown",
   "metadata": {},
   "source": [
    "Look at the statistics"
   ]
  },
  {
   "cell_type": "code",
   "execution_count": 166,
   "metadata": {},
   "outputs": [
    {
     "data": {
      "text/html": [
       "<div>\n",
       "<style scoped>\n",
       "    .dataframe tbody tr th:only-of-type {\n",
       "        vertical-align: middle;\n",
       "    }\n",
       "\n",
       "    .dataframe tbody tr th {\n",
       "        vertical-align: top;\n",
       "    }\n",
       "\n",
       "    .dataframe thead th {\n",
       "        text-align: right;\n",
       "    }\n",
       "</style>\n",
       "<table border=\"1\" class=\"dataframe\">\n",
       "  <thead>\n",
       "    <tr style=\"text-align: right;\">\n",
       "      <th></th>\n",
       "      <th>index</th>\n",
       "      <th>flight_hours</th>\n",
       "    </tr>\n",
       "  </thead>\n",
       "  <tbody>\n",
       "    <tr>\n",
       "      <th>0</th>\n",
       "      <td>count</td>\n",
       "      <td>144.000000</td>\n",
       "    </tr>\n",
       "    <tr>\n",
       "      <th>1</th>\n",
       "      <td>mean</td>\n",
       "      <td>2508.299306</td>\n",
       "    </tr>\n",
       "    <tr>\n",
       "      <th>2</th>\n",
       "      <td>std</td>\n",
       "      <td>4665.660306</td>\n",
       "    </tr>\n",
       "    <tr>\n",
       "      <th>3</th>\n",
       "      <td>min</td>\n",
       "      <td>11.000000</td>\n",
       "    </tr>\n",
       "    <tr>\n",
       "      <th>4</th>\n",
       "      <td>25%</td>\n",
       "      <td>324.250000</td>\n",
       "    </tr>\n",
       "    <tr>\n",
       "      <th>5</th>\n",
       "      <td>50%</td>\n",
       "      <td>1017.500000</td>\n",
       "    </tr>\n",
       "    <tr>\n",
       "      <th>6</th>\n",
       "      <td>75%</td>\n",
       "      <td>2340.000000</td>\n",
       "    </tr>\n",
       "    <tr>\n",
       "      <th>7</th>\n",
       "      <td>max</td>\n",
       "      <td>31500.000000</td>\n",
       "    </tr>\n",
       "  </tbody>\n",
       "</table>\n",
       "</div>"
      ],
      "text/plain": [
       "   index  flight_hours\n",
       "0  count    144.000000\n",
       "1   mean   2508.299306\n",
       "2    std   4665.660306\n",
       "3    min     11.000000\n",
       "4    25%    324.250000\n",
       "5    50%   1017.500000\n",
       "6    75%   2340.000000\n",
       "7    max  31500.000000"
      ]
     },
     "execution_count": 166,
     "metadata": {},
     "output_type": "execute_result"
    }
   ],
   "source": [
    "solo_pilot_hours[\n",
    "    solo_pilot_hours.maker_group == 'ROBINSON'\n",
    "].flight_hours.describe().reset_index()"
   ]
  },
  {
   "cell_type": "code",
   "execution_count": 167,
   "metadata": {},
   "outputs": [
    {
     "data": {
      "text/html": [
       "<div>\n",
       "<style scoped>\n",
       "    .dataframe tbody tr th:only-of-type {\n",
       "        vertical-align: middle;\n",
       "    }\n",
       "\n",
       "    .dataframe tbody tr th {\n",
       "        vertical-align: top;\n",
       "    }\n",
       "\n",
       "    .dataframe thead th {\n",
       "        text-align: right;\n",
       "    }\n",
       "</style>\n",
       "<table border=\"1\" class=\"dataframe\">\n",
       "  <thead>\n",
       "    <tr style=\"text-align: right;\">\n",
       "      <th></th>\n",
       "      <th>index</th>\n",
       "      <th>flight_hours</th>\n",
       "    </tr>\n",
       "  </thead>\n",
       "  <tbody>\n",
       "    <tr>\n",
       "      <th>0</th>\n",
       "      <td>count</td>\n",
       "      <td>798.000000</td>\n",
       "    </tr>\n",
       "    <tr>\n",
       "      <th>1</th>\n",
       "      <td>mean</td>\n",
       "      <td>6493.475815</td>\n",
       "    </tr>\n",
       "    <tr>\n",
       "      <th>2</th>\n",
       "      <td>std</td>\n",
       "      <td>5930.830156</td>\n",
       "    </tr>\n",
       "    <tr>\n",
       "      <th>3</th>\n",
       "      <td>min</td>\n",
       "      <td>6.000000</td>\n",
       "    </tr>\n",
       "    <tr>\n",
       "      <th>4</th>\n",
       "      <td>25%</td>\n",
       "      <td>2081.250000</td>\n",
       "    </tr>\n",
       "    <tr>\n",
       "      <th>5</th>\n",
       "      <td>50%</td>\n",
       "      <td>4730.500000</td>\n",
       "    </tr>\n",
       "    <tr>\n",
       "      <th>6</th>\n",
       "      <td>75%</td>\n",
       "      <td>9058.500000</td>\n",
       "    </tr>\n",
       "    <tr>\n",
       "      <th>7</th>\n",
       "      <td>max</td>\n",
       "      <td>37500.000000</td>\n",
       "    </tr>\n",
       "  </tbody>\n",
       "</table>\n",
       "</div>"
      ],
      "text/plain": [
       "   index  flight_hours\n",
       "0  count    798.000000\n",
       "1   mean   6493.475815\n",
       "2    std   5930.830156\n",
       "3    min      6.000000\n",
       "4    25%   2081.250000\n",
       "5    50%   4730.500000\n",
       "6    75%   9058.500000\n",
       "7    max  37500.000000"
      ]
     },
     "execution_count": 167,
     "metadata": {},
     "output_type": "execute_result"
    }
   ],
   "source": [
    "solo_pilot_hours[\n",
    "    solo_pilot_hours.maker_group == 'THE REST'\n",
    "].flight_hours.describe().reset_index()"
   ]
  }
 ],
 "metadata": {
  "kernelspec": {
   "display_name": "Python 3",
   "language": "python",
   "name": "python3"
  },
  "language_info": {
   "codemirror_mode": {
    "name": "ipython",
    "version": 3
   },
   "file_extension": ".py",
   "mimetype": "text/x-python",
   "name": "python",
   "nbconvert_exporter": "python",
   "pygments_lexer": "ipython3",
   "version": "3.6.5"
  }
 },
 "nbformat": 4,
 "nbformat_minor": 2
}
